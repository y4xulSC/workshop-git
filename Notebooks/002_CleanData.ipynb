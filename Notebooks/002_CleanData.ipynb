{
 "cells": [
  {
   "cell_type": "markdown",
   "metadata": {},
   "source": [
    "### Enviroment "
   ]
  },
  {
   "cell_type": "code",
   "execution_count": 7,
   "metadata": {},
   "outputs": [],
   "source": [
    "import pandas as pd\n",
    "import psycopg2\n",
    "from sqlalchemy import create_engine, text\n",
    "import json"
   ]
  },
  {
   "cell_type": "markdown",
   "metadata": {},
   "source": [
    "### Crear conexion a la BD postgres"
   ]
  },
  {
   "cell_type": "code",
   "execution_count": 8,
   "metadata": {},
   "outputs": [],
   "source": [
    "credentials = \"../credentials.json\"\n",
    "\n",
    "with open(credentials) as f:\n",
    "    creds = json.load(f)\n",
    "\n",
    "conn = psycopg2.connect(    \n",
    "    host=creds[\"host\"],\n",
    "    database=creds[\"database\"],\n",
    "    user=creds[\"user\"],\n",
    "    password=creds[\"password\"],\n",
    "    port=creds[\"port\"]\n",
    ")\n",
    "\n",
    "engine = create_engine(f'postgresql://{creds[\"user\"]}:{creds[\"password\"]}@{creds[\"host\"]}:{creds[\"port\"]}/{creds[\"database\"]}')"
   ]
  },
  {
   "cell_type": "code",
   "execution_count": 11,
   "metadata": {},
   "outputs": [
    {
     "name": "stdout",
     "output_type": "stream",
     "text": [
      "Tabla 'candidates_wkshop_EDA' creada y datos cargados en la base de datos 'candidates_wkshop'.\n",
      "Tabla candidates_wkshop_EDA creada exitosamente!\n",
      "\n",
      "Registros en tabla original: 50000\n",
      "Registros en tabla copia: 50000\n",
      "\n",
      "Muestra de la nueva tabla:\n",
      "   First Name   Last Name                      Email Application Date  \\\n",
      "0  Bernadette   Langworth        leonard91@yahoo.com       2021-02-26   \n",
      "1      Camryn    Reynolds        zelda56@hotmail.com       2021-09-09   \n",
      "2       Larue      Spinka   okey_schultz41@gmail.com       2020-04-14   \n",
      "3        Arch      Spinka     elvera_kulas@yahoo.com       2020-10-01   \n",
      "4       Larue  Altenwerth  minnie.gislason@gmail.com       2020-05-20   \n",
      "\n",
      "   Country  YOE  Seniority                         Technology  \\\n",
      "0   Norway    2     Intern                      Data Engineer   \n",
      "1   Panama   10     Intern                      Data Engineer   \n",
      "2  Belarus    4  Mid-Level                     Client Success   \n",
      "3  Eritrea   25    Trainee                          QA Manual   \n",
      "4  Myanmar   13  Mid-Level  Social Media Community Management   \n",
      "\n",
      "   Code Challenge Score  Technical Interview Score  \n",
      "0                     3                          3  \n",
      "1                     2                         10  \n",
      "2                    10                          9  \n",
      "3                     7                          1  \n",
      "4                     9                          7  \n"
     ]
    }
   ],
   "source": [
    "# Crear nueva tabla (candidates_wkshop_EDA) con la misma información de la tabla ya enviada (candidates_wkshop_data)\n",
    "df = pd.read_csv(\"../data/candidates.csv\", low_memory=False, encoding='ISO-8859-1', sep=\";\")\n",
    "\n",
    "try:\n",
    "    with engine.connect() as connection:\n",
    "        # Paso 1: Eliminar tabla si existe\n",
    "        connection.execute(text(\"DROP TABLE IF EXISTS candidates_wkshop_EDA;\"))\n",
    "        table_name = \"candidates_wkshop_EDA\"  # Nombre de la nueva tablan\n",
    "        df.to_sql(table_name, engine, if_exists='replace', index=False)\n",
    "        print(f\"Tabla '{table_name}' creada y datos cargados en la base de datos '{creds['database']}'.\")\n",
    "\n",
    "        \n",
    "        # Paso 2: Crear nueva tabla con estructura y datos\n",
    "        connection.execute(text(\"\"\"\n",
    "            CREATE TABLE candidates_wkshop_EDA \n",
    "            AS \n",
    "            SELECT * FROM candidates_wkshop_data;\n",
    "        \"\"\"))\n",
    "        \n",
    "        # Paso 3: Verificar creación\n",
    "        result = connection.execute(text(\"\"\"\n",
    "            SELECT COUNT(*) \n",
    "            FROM information_schema.tables \n",
    "            WHERE table_name = 'candidates_wkshop_EDA';\n",
    "        \"\"\"))\n",
    "        \n",
    "        if result.scalar() == 1:\n",
    "            print(\"Tabla candidates_wkshop_EDA creada exitosamente!\")\n",
    "            \n",
    "            # Verificar conteo de registros\n",
    "            count_original = connection.execute(text(\"SELECT COUNT(*) FROM candidates_wkshop_data;\")).scalar()\n",
    "            count_copy = connection.execute(text(\"SELECT COUNT(*) FROM candidates_wkshop_EDA;\")).scalar()\n",
    "            \n",
    "            print(f\"\\nRegistros en tabla original: {count_original}\")\n",
    "            print(f\"Registros en tabla copia: {count_copy}\")\n",
    "            \n",
    "            # Mostrar muestra de datos\n",
    "            sample = pd.read_sql(\"SELECT * FROM candidates_wkshop_EDA LIMIT 5;\", connection)\n",
    "            print(\"\\nMuestra de la nueva tabla:\")\n",
    "            print(sample)\n",
    "            \n",
    "        else:\n",
    "            print(\"Error: No se pudo crear la tabla\")\n",
    "\n",
    "except Exception as e:\n",
    "    print(f\"Error durante la creación de la tabla: {str(e)}\")\n",
    "#finally:\n",
    "#    engine.dispose()"
   ]
  },
  {
   "cell_type": "code",
   "execution_count": null,
   "metadata": {},
   "outputs": [
    {
     "name": "stdout",
     "output_type": "stream",
     "text": [
      "Datos limpios y preparación compleyada.\n"
     ]
    }
   ],
   "source": [
    "df = pd.read_sql(\"SELECT * FROM candidates_wkshop_data;\", engine)\n",
    "\n",
    "df['Application Date'] = pd.to_datetime(df['Application Date'])\n",
    "df['Code Challenge Score'] = pd.to_numeric(df['Code Challenge Score'], errors='coerce')\n",
    "df['Technical Interview Score'] = pd.to_numeric(df['Technical Interview Score'], errors='coerce')\n",
    "\n",
    "df_hired = df[(df['Code Challenge Score'] >= 7) & (df['Technical Interview Score'] >= 7)]\n",
    "\n",
    "df_hired.to_sql('candidates_wkshop_EDA', engine, if_exists='replace', index=False)\n",
    "print(\"Datos limpios y preparación completada.\")"
   ]
  }
 ],
 "metadata": {
  "kernelspec": {
   "display_name": "Python 3",
   "language": "python",
   "name": "python3"
  },
  "language_info": {
   "codemirror_mode": {
    "name": "ipython",
    "version": 3
   },
   "file_extension": ".py",
   "mimetype": "text/x-python",
   "name": "python",
   "nbconvert_exporter": "python",
   "pygments_lexer": "ipython3",
   "version": "3.12.5"
  }
 },
 "nbformat": 4,
 "nbformat_minor": 2
}
