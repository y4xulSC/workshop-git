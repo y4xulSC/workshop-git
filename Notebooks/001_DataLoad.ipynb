{
 "cells": [
  {
   "cell_type": "markdown",
   "metadata": {},
   "source": [
    "## Enviroment"
   ]
  },
  {
   "cell_type": "code",
   "execution_count": 1,
   "metadata": {},
   "outputs": [],
   "source": [
    "import pandas as pd\n",
    "from sqlalchemy import create_engine, text\n",
    "import json\n",
    "import psycopg2"
   ]
  },
  {
   "cell_type": "markdown",
   "metadata": {},
   "source": [
    "Conexión a la base de datos mediante las credenciales definidas"
   ]
  },
  {
   "cell_type": "code",
   "execution_count": 13,
   "metadata": {},
   "outputs": [
    {
     "name": "stdout",
     "output_type": "stream",
     "text": [
      "Datos del CSV cargados correctamente.\n",
      "   First Name   Last Name                      Email Application Date  \\\n",
      "0  Bernadette   Langworth        leonard91@yahoo.com       2021-02-26   \n",
      "1      Camryn    Reynolds        zelda56@hotmail.com       2021-09-09   \n",
      "2       Larue      Spinka   okey_schultz41@gmail.com       2020-04-14   \n",
      "3        Arch      Spinka     elvera_kulas@yahoo.com       2020-10-01   \n",
      "4       Larue  Altenwerth  minnie.gislason@gmail.com       2020-05-20   \n",
      "\n",
      "   Country  YOE  Seniority                         Technology  \\\n",
      "0   Norway    2     Intern                      Data Engineer   \n",
      "1   Panama   10     Intern                      Data Engineer   \n",
      "2  Belarus    4  Mid-Level                     Client Success   \n",
      "3  Eritrea   25    Trainee                          QA Manual   \n",
      "4  Myanmar   13  Mid-Level  Social Media Community Management   \n",
      "\n",
      "   Code Challenge Score  Technical Interview Score  \n",
      "0                     3                          3  \n",
      "1                     2                         10  \n",
      "2                    10                          9  \n",
      "3                     7                          1  \n",
      "4                     9                          7  \n",
      "El archivo CSV tiene un total de 50000 filas.\n",
      "La base de datos 'candidates_wkshop' ya existe.\n",
      "Tabla 'candidates_wkshop_data' creada y datos cargados en la base de datos 'candidates_wkshop'.\n",
      "Primeros 5 registros de la tabla 'candidates_wkshop_data':\n",
      "('Bernadette', 'Langworth', 'leonard91@yahoo.com', '2021-02-26', 'Norway', 2, 'Intern', 'Data Engineer', 3, 3)\n",
      "('Camryn', 'Reynolds', 'zelda56@hotmail.com', '2021-09-09', 'Panama', 10, 'Intern', 'Data Engineer', 2, 10)\n",
      "('Larue', 'Spinka', 'okey_schultz41@gmail.com', '2020-04-14', 'Belarus', 4, 'Mid-Level', 'Client Success', 10, 9)\n",
      "('Arch', 'Spinka', 'elvera_kulas@yahoo.com', '2020-10-01', 'Eritrea', 25, 'Trainee', 'QA Manual', 7, 1)\n",
      "('Larue', 'Altenwerth', 'minnie.gislason@gmail.com', '2020-05-20', 'Myanmar', 13, 'Mid-Level', 'Social Media Community Management', 9, 7)\n"
     ]
    }
   ],
   "source": [
    "credentials = \"../credentials.json\"\n",
    "with open(credentials) as f:\n",
    "    creds = json.load(f)\n",
    "    \n",
    "DB_USER = creds[\"user\"]\n",
    "DB_PASSWORD = creds[\"password\"]\n",
    "DB_HOST = creds[\"host\"]\n",
    "DB_PORT = creds[\"port\"]\n",
    "DB_NAME = creds[\"database\"]\n",
    "\n",
    "df = pd.read_csv(\"../data/candidates.csv\", low_memory=False, encoding='ISO-8859-1', sep=\";\")\n",
    "print(\"Datos del CSV cargados correctamente.\")\n",
    "print(df.head()) \n",
    "\n",
    "# Contar el número total de filas en el CSV\n",
    "total_filas_csv = len(df)\n",
    "print(f\"El archivo CSV tiene un total de {total_filas_csv} filas.\")\n",
    "\n",
    "# Crear Base de Datos\n",
    "creator_connection_string = f'postgresql+psycopg2://{DB_USER}:{DB_PASSWORD}@{DB_HOST}:{DB_PORT}/postgres'\n",
    "creator_engine = create_engine(creator_connection_string)\n",
    "\n",
    "with creator_engine.connect() as connection:\n",
    "    connection.execution_options(isolation_level=\"AUTOCOMMIT\")\n",
    "    result = connection.execute(\n",
    "        text(f\"SELECT 1 FROM pg_database WHERE datname = '{DB_NAME}'\")\n",
    "    )\n",
    "    \n",
    "    if not result.scalar():\n",
    "        connection.execute(text(f\"CREATE DATABASE {DB_NAME}\"))\n",
    "        print(f\"Base de datos '{DB_NAME}' creada exitosamente!\")\n",
    "    else:\n",
    "        print(f\"La base de datos '{DB_NAME}' ya existe.\")\n",
    "\n",
    "# Crear conexión a la base de datos ya creada\n",
    "connection_string = f'postgresql+psycopg2://{DB_USER}:{DB_PASSWORD}@{DB_HOST}:{DB_PORT}/{DB_NAME}'\n",
    "engine = create_engine(connection_string)\n",
    "\n",
    "# Crear la tabla en la base de datos y cargar los datos\n",
    "table_name = \"candidates_wkshop_data\"  # Nombre de la nueva tablan\n",
    "df.to_sql(table_name, engine, if_exists='replace', index=False)\n",
    "\n",
    "print(f\"Tabla '{table_name}' creada y datos cargados en la base de datos '{DB_NAME}'.\")\n",
    "\n",
    "# Verificar los datos en la nueva tabla\n",
    "with engine.connect() as connection:\n",
    "    result = connection.execute(text(f\"SELECT * FROM {table_name} LIMIT 5;\"))\n",
    "    print(f\"Primeros 5 registros de la tabla '{table_name}':\")\n",
    "    for row in result:\n",
    "        print(row)"
   ]
  },
  {
   "cell_type": "code",
   "execution_count": 14,
   "metadata": {},
   "outputs": [
    {
     "name": "stdout",
     "output_type": "stream",
     "text": [
      "El archivo CSV tiene un total de 50000 filas.\n",
      "La tabla 'candidates_wkshop_data' tiene un total de 50000 filas.\n"
     ]
    }
   ],
   "source": [
    "# Contar el número total de filas en el DataFrame\n",
    "total_csv_rows = len(df)\n",
    "print(f\"El archivo CSV tiene un total de {total_csv_rows} filas.\")\n",
    "\n",
    "# Verificar el número total de filas en la tabla\n",
    "with engine.connect() as connection:\n",
    "    result = connection.execute(text(f\"SELECT COUNT(*) FROM {table_name};\"))\n",
    "    total_rows = result.scalar()  # Obtener el valor del conteo\n",
    "    print(f\"La tabla '{table_name}' tiene un total de {total_rows} filas.\")"
   ]
  },
  {
   "cell_type": "code",
   "execution_count": 15,
   "metadata": {},
   "outputs": [
    {
     "name": "stdout",
     "output_type": "stream",
     "text": [
      "Primeros 20 registros de la tabla 'candidates_wkshop_data':\n",
      "    First Name    Last Name                      Email Application Date  \\\n",
      "0   Bernadette    Langworth        leonard91@yahoo.com       2021-02-26   \n",
      "1       Camryn     Reynolds        zelda56@hotmail.com       2021-09-09   \n",
      "2        Larue       Spinka   okey_schultz41@gmail.com       2020-04-14   \n",
      "3         Arch       Spinka     elvera_kulas@yahoo.com       2020-10-01   \n",
      "4        Larue   Altenwerth  minnie.gislason@gmail.com       2020-05-20   \n",
      "5         Alec       Abbott   juanita_hansen@gmail.com       2019-08-17   \n",
      "6      Allison       Jacobs   alba_rolfson27@yahoo.com       2018-05-18   \n",
      "7          Nya       Skiles   madisen.zulauf@gmail.com       2021-12-09   \n",
      "8         Mose        Lakin   dale_murazik@hotmail.com       2018-03-13   \n",
      "9     Terrance        Zieme       dustin31@hotmail.com       2022-04-08   \n",
      "10      Aiyana      Goodwin    vallie.damore@yahoo.com       2019-09-22   \n",
      "11      Emilia      Waelchi      peter.grady@gmail.com       2020-07-15   \n",
      "12     Terrell      Streich           meta92@yahoo.com       2021-12-27   \n",
      "13       Hilda    Rodriguez   jordan.hyatt@hotmail.com       2020-05-09   \n",
      "14        Hope       Hansen  clemmie.bruen@hotmail.com       2019-10-12   \n",
      "15        Arno   Altenwerth    cheyenne_rau2@gmail.com       2018-10-18   \n",
      "16       Betty        Crona    judd.wisozk55@gmail.com       2020-03-25   \n",
      "17       Clint  Oberbrunner  dwight_jacobson@gmail.com       2021-05-23   \n",
      "18       Donny        Boehm       lucile97@hotmail.com       2018-05-02   \n",
      "19        Adah       Pouros          derick1@gmail.com       2021-04-13   \n",
      "\n",
      "                        Country  YOE  Seniority  \\\n",
      "0                        Norway    2     Intern   \n",
      "1                        Panama   10     Intern   \n",
      "2                       Belarus    4  Mid-Level   \n",
      "3                       Eritrea   25    Trainee   \n",
      "4                       Myanmar   13  Mid-Level   \n",
      "5                      Zimbabwe    8     Junior   \n",
      "6             Wallis and Futuna   19    Trainee   \n",
      "7                       Myanmar    1       Lead   \n",
      "8                         Italy   18       Lead   \n",
      "9                   Timor-Leste   25       Lead   \n",
      "10                      Armenia   24     Intern   \n",
      "11  French Southern Territories   28       Lead   \n",
      "12                         Chad    3  Mid-Level   \n",
      "13                  El Salvador   16     Junior   \n",
      "14                   Mozambique   18  Architect   \n",
      "15            Brunei Darussalam   21  Mid-Level   \n",
      "16                      Morocco   28  Architect   \n",
      "17                 Saint Helena   19     Senior   \n",
      "18                     Portugal   20    Trainee   \n",
      "19                   Mozambique    3  Architect   \n",
      "\n",
      "                           Technology  Code Challenge Score  \\\n",
      "0                       Data Engineer                     3   \n",
      "1                       Data Engineer                     2   \n",
      "2                      Client Success                    10   \n",
      "3                           QA Manual                     7   \n",
      "4   Social Media Community Management                     9   \n",
      "5            Adobe Experience Manager                     2   \n",
      "6                               Sales                     2   \n",
      "7                            Mulesoft                     2   \n",
      "8   Social Media Community Management                     7   \n",
      "9                              DevOps                     2   \n",
      "10          Development - CMS Backend                     4   \n",
      "11                             DevOps                     7   \n",
      "12                         Salesforce                     5   \n",
      "13              System Administration                     7   \n",
      "14                           Security                     4   \n",
      "15                   Game Development                     4   \n",
      "16  Social Media Community Management                     5   \n",
      "17  Social Media Community Management                     3   \n",
      "18         Development - CMS Frontend                     4   \n",
      "19           Adobe Experience Manager                     2   \n",
      "\n",
      "    Technical Interview Score  \n",
      "0                           3  \n",
      "1                          10  \n",
      "2                           9  \n",
      "3                           1  \n",
      "4                           7  \n",
      "5                           9  \n",
      "6                           9  \n",
      "7                           5  \n",
      "8                          10  \n",
      "9                           0  \n",
      "10                          9  \n",
      "11                          4  \n",
      "12                         10  \n",
      "13                          8  \n",
      "14                          1  \n",
      "15                          6  \n",
      "16                          5  \n",
      "17                          5  \n",
      "18                          2  \n",
      "19                          3  \n"
     ]
    }
   ],
   "source": [
    "with engine.connect() as connection:\n",
    "    # Consulta para obtener los primeros 20 registros de la tabla\n",
    "    query = f\"SELECT * FROM {table_name} LIMIT 20;\"\n",
    "    \n",
    "    # Cargar los datos en un DataFrame de pandas\n",
    "    df = pd.read_sql(query, connection)\n",
    "    \n",
    "    # Mostrar el DataFrame en formato tabular\n",
    "    print(f\"Primeros 20 registros de la tabla '{table_name}':\")\n",
    "    print(df)"
   ]
  },
  {
   "cell_type": "code",
   "execution_count": null,
   "metadata": {},
   "outputs": [
    {
     "name": "stdout",
     "output_type": "stream",
     "text": [
      "Filas: 50000, Columnas: 1\n",
      "<class 'pandas.core.frame.DataFrame'>\n",
      "RangeIndex: 50000 entries, 0 to 49999\n",
      "Data columns (total 1 columns):\n",
      " #   Column                                                                                                                       Non-Null Count  Dtype \n",
      "---  ------                                                                                                                       --------------  ----- \n",
      " 0   First Name;Last Name;Email;Application Date;Country;YOE;Seniority;Technology;Code Challenge Score;Technical Interview Score  50000 non-null  object\n",
      "dtypes: object(1)\n",
      "memory usage: 390.8+ KB\n",
      "None\n",
      "First Name;Last Name;Email;Application Date;Country;YOE;Seniority;Technology;Code Challenge Score;Technical Interview Score    0\n",
      "dtype: int64\n"
     ]
    }
   ],
   "source": [
    "# Cargar el dataset\n",
    "df = pd.read_csv(\"../data/candidates.csv\", low_memory=False, encoding='ISO-8859-1', sep=\";\")\n",
    "\n",
    "# Revisión inicial\n",
    "print(f\"Filas: {df.shape[0]}, Columnas: {df.shape[1]}\")\n",
    "print(df.info())  # Tipos de datos y valores no nulos\n",
    "print(df.isnull().sum())  # Conteo de valores nulos por columna"
   ]
  }
 ],
 "metadata": {
  "kernelspec": {
   "display_name": "Python 3",
   "language": "python",
   "name": "python3"
  },
  "language_info": {
   "codemirror_mode": {
    "name": "ipython",
    "version": 3
   },
   "file_extension": ".py",
   "mimetype": "text/x-python",
   "name": "python",
   "nbconvert_exporter": "python",
   "pygments_lexer": "ipython3",
   "version": "3.12.5"
  }
 },
 "nbformat": 4,
 "nbformat_minor": 2
}
